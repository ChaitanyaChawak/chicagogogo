{
 "cells": [
  {
   "cell_type": "markdown",
   "id": "9f6829c6",
   "metadata": {},
   "source": [
    "# <font color='blue'> The Loop Converter Package (loop.py) </font>\n",
    "<p>\n",
    "<center>\n",
    "<img width=700 src=\"https://humanities-web.s3.us-east-2.amazonaws.com/college/chicagostudies-prod/s3fs-public/2020-08/B%26W%20Chicago%20Map.jpg\"></img>"
   ]
  },
  {
   "cell_type": "code",
   "execution_count": 97,
   "id": "89f31b99",
   "metadata": {
    "scrolled": true
   },
   "outputs": [],
   "source": [
    "from geopy.geocoders import Nominatim\n",
    "\n",
    "def get_coordinates(address):\n",
    "    geolocator = Nominatim(user_agent=\"address_converter\")\n",
    "    location = geolocator.geocode(address)\n",
    "    \n",
    "    if location:\n",
    "        latitude = location.latitude\n",
    "        longitude = location.longitude\n",
    "        return latitude, longitude\n",
    "    else:\n",
    "        return None\n",
    "\n",
    "def get_address_from_coordinates(latitude, longitude):\n",
    "    geolocator = Nominatim(user_agent=\"address_converter\")\n",
    "    location = geolocator.reverse(f\"{latitude}, {longitude}\")\n",
    "\n",
    "    address = location.raw['address']\n",
    "\n",
    "    amenity = address.get('amenity', '')\n",
    "    house_number = address.get('house_number', '')\n",
    "    road = address.get('road', '')\n",
    "    city = address.get('city', '')\n",
    "    postcode = address.get('postcode', '')\n",
    "    country = address.get('country', '')\n",
    "\n",
    "    formatted_address = ''\n",
    "    if amenity:\n",
    "        formatted_address += f\"{amenity}, \"\n",
    "    if house_number:\n",
    "        formatted_address += house_number\n",
    "        if road:\n",
    "            formatted_address += ' ' + road\n",
    "    elif road:\n",
    "        formatted_address += road\n",
    "    \n",
    "    if city:\n",
    "        formatted_address += f\", {city}\"\n",
    "    if postcode:\n",
    "        formatted_address += f\", {postcode}\"\n",
    "    if country:\n",
    "        formatted_address += f\", {country}\"\n",
    "\n",
    "    precise_location = f\"[{latitude}, {longitude}]\"\n",
    "\n",
    "    if not house_number:\n",
    "        print(\"The precise location can also be found as:\", precise_location)\n",
    "    \n",
    "    return formatted_address.strip(\", \")\n",
    "\n",
    "    "
   ]
  },
  {
   "cell_type": "code",
   "execution_count": 15,
   "id": "1a8faba6",
   "metadata": {},
   "outputs": [],
   "source": [
    "def calculate_blocks_away(latitude, longitude):\n",
    "    # Miles per degree\n",
    "    mpd = (24901.92 / 360)\n",
    "\n",
    "    # Blocks per degree\n",
    "    bpd_n_mr = mpd * 12\n",
    "    bpd_n_rc = mpd * 10\n",
    "    bpd_n_ct = mpd * 9\n",
    "    bpd_n = mpd * 8\n",
    "    bpd_w = mpd * 8\n",
    "\n",
    "    roosevelt = 41.8674224\n",
    "    cermak = 41.8528516\n",
    "    thirtyfirst = 41.8382902\n",
    "    \n",
    "    # Baseline\n",
    "    b_latitude, b_longitude = 41.88205727768228, -87.62783047240069\n",
    "\n",
    "\n",
    "    if latitude > b_latitude:\n",
    "        blocks_away_latitude = (latitude - b_latitude) * bpd_n\n",
    "        direction_latitude = \"north\"\n",
    "    elif roosevelt <= latitude <= b_latitude:\n",
    "        blocks_away_latitude = (b_latitude - latitude) * bpd_n_mr\n",
    "        direction_latitude = \"south\"\n",
    "    elif cermak <= latitude <= roosevelt:\n",
    "        blocks_away_latitude = ((b_latitude - roosevelt) * bpd_n_mr + (roosevelt - latitude) * bpd_n_rc)\n",
    "        direction_latitude = \"south\"\n",
    "    elif thirtyfirst <= latitude <= cermak:\n",
    "        blocks_away_latitude = ((b_latitude - roosevelt) * bpd_n_mr + (roosevelt - cermak) * bpd_n_rc + (cermak - latitude) * bpd_n_ct)\n",
    "        direction_latitude = \"south\"\n",
    "    elif latitude <= thirtyfirst:\n",
    "        blocks_away_latitude = ((b_latitude - roosevelt) * bpd_n_mr + (roosevelt - cermak) * bpd_n_rc + (cermak - thirtyfirst) * bpd_n_ct + (thirtyfirst - latitude) * bpd_n)\n",
    "        direction_latitude = \"south\"\n",
    "\n",
    "    if longitude >= b_longitude:\n",
    "        blocks_away_longitude = abs(b_longitude - longitude) * bpd_w\n",
    "        direction_longitude = \"east\"\n",
    "    elif longitude <= b_longitude:\n",
    "        blocks_away_longitude = abs(longitude - b_longitude) * bpd_w\n",
    "        direction_longitude = \"west\"\n",
    "\n",
    "    return blocks_away_latitude, direction_latitude, blocks_away_longitude, direction_longitude\n"
   ]
  },
  {
   "cell_type": "code",
   "execution_count": 75,
   "id": "02890030",
   "metadata": {},
   "outputs": [],
   "source": [
    "# Miles per degree\n",
    "mpd = (24901.92 / 360)\n",
    "\n",
    "# Blocks per degree\n",
    "bpd_n_mr = mpd * 12\n",
    "bpd_n_rc = mpd * 10\n",
    "bpd_n_ct = mpd * 9\n",
    "bpd_n = mpd * 8\n",
    "bpd_w = mpd * 6\n",
    "\n",
    "roosevelt = 41.8674224\n",
    "cermak = 41.8528516\n",
    "thirtyfirst = 41.8382902\n",
    "\n",
    "b_latitude, b_longitude = 41.88205727768228, -87.62783047240069\n",
    "def calculate_latitude_longitude(blocks_away_latitude, direction_latitude, blocks_away_longitude, direction_longitude):\n",
    "    latitude = longitude = None\n",
    "\n",
    "    if direction_latitude == \"north\":\n",
    "        latitude = b_latitude + (blocks_away_latitude / bpd_n)\n",
    "    elif direction_latitude == \"south\":\n",
    "        if blocks_away_latitude <= (b_latitude - roosevelt) * bpd_n_mr:\n",
    "            latitude = b_latitude - (blocks_away_latitude / bpd_n_mr)\n",
    "        elif blocks_away_latitude <= (b_latitude - roosevelt) * bpd_n_mr + (roosevelt - cermak) * bpd_n_rc:\n",
    "            latitude = roosevelt - (blocks_away_latitude - (b_latitude - roosevelt) * bpd_n_mr) / bpd_n_rc\n",
    "        elif blocks_away_latitude <= (b_latitude - roosevelt) * bpd_n_mr + (roosevelt - cermak) * bpd_n_rc + (cermak - thirtyfirst) * bpd_n_ct:\n",
    "            latitude = cermak - (blocks_away_latitude - (b_latitude - roosevelt) * bpd_n_mr - (roosevelt - cermak) * bpd_n_rc) / bpd_n_ct\n",
    "        else:\n",
    "            latitude = thirtyfirst - (blocks_away_latitude - (b_latitude - roosevelt) * bpd_n_mr - (roosevelt - cermak) * bpd_n_rc - (cermak - thirtyfirst) * bpd_n) / bpd_n\n",
    "\n",
    "    if direction_longitude == \"east\":\n",
    "        longitude = b_longitude + (blocks_away_longitude / bpd_w)\n",
    "    elif direction_longitude == \"west\":\n",
    "        longitude = b_longitude - (blocks_away_longitude / bpd_w)\n",
    "\n",
    "    return latitude, longitude"
   ]
  },
  {
   "cell_type": "code",
   "execution_count": 101,
   "id": "001682ff",
   "metadata": {},
   "outputs": [
    {
     "name": "stdout",
     "output_type": "stream",
     "text": [
      "41.88205727768228 -90.03728323748868\n"
     ]
    },
    {
     "data": {
      "text/plain": [
       "'10978 Union Grove Road, 61270, United States'"
      ]
     },
     "execution_count": 101,
     "metadata": {},
     "output_type": "execute_result"
    }
   ],
   "source": [
    "a = calculate_latitude_longitude(0, \"north\", 1000, \"west\")\n",
    "lat = a[0]\n",
    "long = a[1]\n",
    "print(lat, long)\n",
    "get_address_from_coordinates(lat, long)"
   ]
  },
  {
   "cell_type": "code",
   "execution_count": 99,
   "id": "c9bc23cd",
   "metadata": {},
   "outputs": [
    {
     "data": {
      "text/plain": [
       "'1154 West Grand Avenue, Chicago, 60661, United States'"
      ]
     },
     "execution_count": 99,
     "metadata": {},
     "output_type": "execute_result"
    }
   ],
   "source": [
    "a = calculate_latitude_longitude(5, \"north\", 12, \"west\")\n",
    "lat = a[0]\n",
    "long = a[1]\n",
    "get_address_from_coordinates(lat, long)"
   ]
  },
  {
   "cell_type": "code",
   "execution_count": 40,
   "id": "69f07a5a",
   "metadata": {},
   "outputs": [
    {
     "name": "stdout",
     "output_type": "stream",
     "text": [
      "6928 South Bell Avenue, Chicago, 60636, United States\n",
      "Hinter dem Zeughaus, Berlin, 10117, Deutschland\n",
      "Latitude: 41.7941402\n",
      "Longitude: -87.6259778\n",
      "10.008312142065023 blocks south\n",
      "6.734324504796817 blocks west\n"
     ]
    }
   ],
   "source": [
    "# Example usage\n",
    "latitude, longitude = 41.7675, -87.679722\n",
    "\n",
    "address = get_address_from_coordinates(latitude, longitude)\n",
    "print(address)\n",
    "\n",
    "# Example usage\n",
    "latitude, longitude = 52.5211874,13.3949995\n",
    "\n",
    "address = get_address_from_coordinates(latitude, longitude)\n",
    "print(address)\n",
    "\n",
    "\n",
    "\n",
    "# Example usage\n",
    "address = \"5500 South State Street, Chicago, IL\"\n",
    "coordinates = get_coordinates(address)\n",
    "\n",
    "if coordinates:\n",
    "    latitude, longitude = coordinates\n",
    "    print(f\"Latitude: {latitude}\")\n",
    "    print(f\"Longitude: {longitude}\")\n",
    "else:\n",
    "    print(\"Invalid address or could not find coordinates.\")\n",
    "\n",
    "# Example usage\n",
    "b_latitude = 41.88205727768228  # Example value for b_latitude\n",
    "b_longitude = -87.62783047240069  # Example value for b_longitude\n",
    "latitude = 41.870000  # Example value for latitude\n",
    "longitude = -87.640000  # Example value for longitude\n",
    "\n",
    "blocks_away_lat, direction_lat, blocks_away_lon, direction_lon = calculate_blocks_away(latitude, longitude)\n",
    "    \n",
    "print(f\"{blocks_away_lat} blocks {direction_lat}\")\n",
    "print(f\"{blocks_away_lon} blocks {direction_lon}\")\n"
   ]
  },
  {
   "cell_type": "code",
   "execution_count": null,
   "id": "8a3a099d",
   "metadata": {},
   "outputs": [],
   "source": []
  }
 ],
 "metadata": {
  "kernelspec": {
   "display_name": "Python 3 (Anaconda)",
   "language": "python",
   "name": "python3-anaconda"
  },
  "language_info": {
   "codemirror_mode": {
    "name": "ipython",
    "version": 3
   },
   "file_extension": ".py",
   "mimetype": "text/x-python",
   "name": "python",
   "nbconvert_exporter": "python",
   "pygments_lexer": "ipython3",
   "version": "3.9.7"
  }
 },
 "nbformat": 4,
 "nbformat_minor": 5
}
