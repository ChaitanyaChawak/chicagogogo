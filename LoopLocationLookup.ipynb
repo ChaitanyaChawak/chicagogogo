{
 "cells": [
  {
   "cell_type": "markdown",
   "id": "9f6829c6",
   "metadata": {},
   "source": [
    "# <font color='blue'> The Loop Converter Package (loop.py) </font>\n",
    "<p>\n",
    "<center>\n",
    "<img width=700 src=\"https://humanities-web.s3.us-east-2.amazonaws.com/college/chicagostudies-prod/s3fs-public/2020-08/B%26W%20Chicago%20Map.jpg\"></img>"
   ]
  },
  {
   "cell_type": "code",
   "execution_count": 7,
   "id": "89f31b99",
   "metadata": {
    "scrolled": true
   },
   "outputs": [
    {
     "name": "stdout",
     "output_type": "stream",
     "text": [
      "Latitude: 41.7941402\n",
      "Longitude: -87.6259778\n"
     ]
    },
    {
     "data": {
      "text/plain": [
       "'b_address = \"6 E Madison St, Chicago, IL 60602\"\\ncoordinates = get_coordinates(b_address)\\n\\nif coordinates:\\n    b_latitude, b_longitude = coordinates\\n    print(f\"Latitude of Baseline: {b_latitude}\")\\n    print(f\"Longitude of Baseline: {b_longitude}\")\\nelse:\\n    print(\"Invalid address or could not find coordinates.\")'"
      ]
     },
     "execution_count": 7,
     "metadata": {},
     "output_type": "execute_result"
    }
   ],
   "source": [
    "\n",
    "from geopy.geocoders import Nominatim\n",
    "\n",
    "def get_coordinates(address):\n",
    "    geolocator = Nominatim(user_agent=\"address_converter\")\n",
    "    location = geolocator.geocode(address)\n",
    "    \n",
    "    if location:\n",
    "        latitude = location.latitude\n",
    "        longitude = location.longitude\n",
    "        return latitude, longitude\n",
    "    else:\n",
    "        return None\n",
    "\n",
    "# Example usage\n",
    "address = \"5500 South State Street, Chicago, IL\"\n",
    "coordinates = get_coordinates(address)\n",
    "\n",
    "if coordinates:\n",
    "    latitude, longitude = coordinates\n",
    "    print(f\"Latitude: {latitude}\")\n",
    "    print(f\"Longitude: {longitude}\")\n",
    "else:\n",
    "    print(\"Invalid address or could not find coordinates.\")\n",
    "    \n",
    "# Baseline\n",
    "b_latitude, b_longitude = 41.88205727768228, -87.62783047240069\n",
    "\"\"\"b_address = \"6 E Madison St, Chicago, IL 60602\"\n",
    "coordinates = get_coordinates(b_address)\n",
    "\n",
    "if coordinates:\n",
    "    b_latitude, b_longitude = coordinates\n",
    "    print(f\"Latitude of Baseline: {b_latitude}\")\n",
    "    print(f\"Longitude of Baseline: {b_longitude}\")\n",
    "else:\n",
    "    print(\"Invalid address or could not find coordinates.\")\"\"\""
   ]
  },
  {
   "cell_type": "code",
   "execution_count": 8,
   "id": "1a8faba6",
   "metadata": {},
   "outputs": [
    {
     "name": "stdout",
     "output_type": "stream",
     "text": [
      "55.723519731661696\n"
     ]
    }
   ],
   "source": [
    "#miles per degree\n",
    "\n",
    "mpd = (24901.92/360)\n",
    "\n",
    "#blocks per degree\n",
    "bpd_n_mr = mpd*12\n",
    "bpd_n_rc = mpd*10\n",
    "bpd_n_ct = mpd*9\n",
    "bpd_n = mpd*8\n",
    "bpd_w = mpd*8\n",
    "\n",
    "roosevelt = 41.8674224\n",
    "cermak = 41.8528516\n",
    "thirtyfirst = 41.8382902\n",
    "#Finding the blocks of our address\n",
    "if latitude > b_latitude:\n",
    "    print((latitude-b_latitude)*bpd_n,\"blocks north\")\n",
    "elif roosevelt <= latitude <= b_latitude:\n",
    "    print((b_latitude-latitude)*bpd_n_mr)\n",
    "elif cermak <= latitude <= roosevelt:\n",
    "    print(((b_latitude-roosevelt)*bpd_n_mr+(roosevelt-latitude)*bpd_n_rc))\n",
    "elif thirtyfirst <= latitude <= cermak:\n",
    "    print((((b_latitude-roosevelt)*bpd_n_mr+(roosevelt-cermak)*bpd_n_rc+(cermak-latitude)*bpd_n_ct)))\n",
    "elif latitude <= thirtyfirst:\n",
    "    print((((b_latitude-roosevelt)*bpd_n_mr+(roosevelt-cermak)*bpd_n_rc+(cermak-thirtyfirst)*bpd_n_ct+(thirtyfirst-latitude)*bpd_n)))"
   ]
  },
  {
   "cell_type": "code",
   "execution_count": 9,
   "id": "3838eb08",
   "metadata": {},
   "outputs": [
    {
     "name": "stdout",
     "output_type": "stream",
     "text": [
      "1.0252244424028671 blocks east\n"
     ]
    }
   ],
   "source": [
    "if longitude >= b_longitude:\n",
    "    print(abs(b_longitude-longitude)*bpd_w,\"blocks east\")\n",
    "elif longitude <= b_longitude:\n",
    "    print(abs(longitude-b_longitude)*bpd_w,\"blocks west\")"
   ]
  },
  {
   "cell_type": "code",
   "execution_count": 8,
   "id": "16947805",
   "metadata": {},
   "outputs": [
    {
     "name": "stdout",
     "output_type": "stream",
     "text": [
      "-87.62783047240069\n"
     ]
    }
   ],
   "source": [
    "print(b_longitude)"
   ]
  },
  {
   "cell_type": "code",
   "execution_count": 9,
   "id": "35cdc03d",
   "metadata": {
    "scrolled": true
   },
   "outputs": [
    {
     "name": "stdout",
     "output_type": "stream",
     "text": [
      "553.376\n"
     ]
    }
   ],
   "source": [
    "#miles per degree\n",
    "\n",
    "mpd = (24901.92/360)\n",
    "\n",
    "#blocks per degree\n",
    "bpd_n_mr = mpd*12\n",
    "bpd_n_rc = mpd*10\n",
    "bpd_n_ct = mpd*9\n",
    "bpd_n = mpd*8\n",
    "bpd_w = mpd*8\n",
    "\n",
    "print(bpd_n)\n"
   ]
  }
 ],
 "metadata": {
  "kernelspec": {
   "display_name": "Python 3 (ipykernel)",
   "language": "python",
   "name": "python3"
  },
  "language_info": {
   "codemirror_mode": {
    "name": "ipython",
    "version": 3
   },
   "file_extension": ".py",
   "mimetype": "text/x-python",
   "name": "python",
   "nbconvert_exporter": "python",
   "pygments_lexer": "ipython3",
   "version": "3.9.12"
  }
 },
 "nbformat": 4,
 "nbformat_minor": 5
}
